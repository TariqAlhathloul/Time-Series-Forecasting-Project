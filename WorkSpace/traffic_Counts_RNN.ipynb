{
  "cells": [
    {
      "cell_type": "markdown",
      "metadata": {
        "id": "XwOFCJwVr7Ln"
      },
      "source": [
        "### Description: This dataset includes real-time and historical traffic congestion data from Chicago, including traffic flow, speed, and incident reports. It's valuable for studying traffic patterns in urban environments.\n",
        "\n",
        "## Dataset Overview\n",
        "\n",
        "#### 1. `ID`: A unique identifier for each traffic count record.\n",
        "\n",
        "#### 2. `Traffic Volume Count Location Address`: The address where the traffic volume was recorded.\n",
        "\n",
        "#### 3. `Street`: The street name where the traffic count was taken.\n",
        "\n",
        "#### 4. `Date of Count`: The date on which the traffic count was recorded.\n",
        "\n",
        "#### 5. `Total Passing Vehicle Volume`: The total number of vehicles that passed the location during the count period.\n",
        "\n",
        "#### 6. ` Vehicle Volume By Each Direction of Traffic`: The vehicle count divided by direction (e.g., East Bound, West Bound).\n",
        "\n",
        "#### 7. `Latitude`: The latitude coordinate of the traffic count location.\n",
        "\n",
        "#### 8. `Longitude`: The longitude coordinate of the traffic count location.\n",
        "\n",
        "#### 9. `Location`: The geographic location as a tuple of latitude and longitude."
      ]
    },
    {
      "cell_type": "markdown",
      "metadata": {
        "id": "WGNjHUDTr7Lo"
      },
      "source": [
        "Check out the [City of Chicago Traffic Data](https://www.chicago.gov/city/en/depts/cdot/dataset/average_daily_trafficcounts.html) for more information.\n"
      ]
    },
    {
      "cell_type": "markdown",
      "metadata": {
        "id": "InX9E0VCr7Lo"
      },
      "source": [
        "[![Open in Colab](https://colab.research.google.com/assets/colab-badge.svg)](https://colab.research.google.com/github/username/repository/blob/main/notebook.ipynb)"
      ]
    },
    {
      "cell_type": "markdown",
      "metadata": {
        "id": "T6inh-XnMAwB"
      },
      "source": [
        "### Change the datatype of the `Date of Count` from object to datetime.\n",
        "### drop`ID` and `Location`.\n",
        "### Set new column `Date` as index.\n",
        "### sort the values in the dataframe based on the `date`."
      ]
    }
  ],
  "metadata": {
    "language_info": {
      "name": "python"
    },
    "colab": {
      "provenance": []
    }
  },
  "nbformat": 4,
  "nbformat_minor": 0
}